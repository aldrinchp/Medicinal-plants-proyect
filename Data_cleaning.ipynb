{
 "cells": [
  {
   "cell_type": "markdown",
   "id": "76e77659-08fe-48bf-83f6-051d22cc4463",
   "metadata": {},
   "source": [
    "# Medicinal Plants proyect\n"
   ]
  },
  {
   "cell_type": "markdown",
   "id": "b7d04139-81b3-477b-b8d5-e35bad37c5a5",
   "metadata": {},
   "source": [
    "### Data getting of the excel document"
   ]
  },
  {
   "cell_type": "code",
   "execution_count": 1,
   "id": "3ca6475c-d4ab-405f-8747-42d229239652",
   "metadata": {},
   "outputs": [
    {
     "name": "stdout",
     "output_type": "stream",
     "text": [
      "Requirement already satisfied: pandas in /home/aldrinchp/Documents/Proyecto Plantas/.venv/lib/python3.11/site-packages (2.2.3)\n",
      "Requirement already satisfied: openpyxl in /home/aldrinchp/Documents/Proyecto Plantas/.venv/lib/python3.11/site-packages (3.1.5)\n",
      "Requirement already satisfied: numpy>=1.23.2 in /home/aldrinchp/Documents/Proyecto Plantas/.venv/lib/python3.11/site-packages (from pandas) (2.2.5)\n",
      "Requirement already satisfied: python-dateutil>=2.8.2 in /home/aldrinchp/Documents/Proyecto Plantas/.venv/lib/python3.11/site-packages (from pandas) (2.9.0.post0)\n",
      "Requirement already satisfied: pytz>=2020.1 in /home/aldrinchp/Documents/Proyecto Plantas/.venv/lib/python3.11/site-packages (from pandas) (2025.2)\n",
      "Requirement already satisfied: tzdata>=2022.7 in /home/aldrinchp/Documents/Proyecto Plantas/.venv/lib/python3.11/site-packages (from pandas) (2025.2)\n",
      "Requirement already satisfied: et-xmlfile in /home/aldrinchp/Documents/Proyecto Plantas/.venv/lib/python3.11/site-packages (from openpyxl) (2.0.0)\n",
      "Requirement already satisfied: six>=1.5 in /home/aldrinchp/Documents/Proyecto Plantas/.venv/lib/python3.11/site-packages (from python-dateutil>=2.8.2->pandas) (1.17.0)\n",
      "\n",
      "\u001b[1m[\u001b[0m\u001b[34;49mnotice\u001b[0m\u001b[1;39;49m]\u001b[0m\u001b[39;49m A new release of pip is available: \u001b[0m\u001b[31;49m25.1\u001b[0m\u001b[39;49m -> \u001b[0m\u001b[32;49m25.1.1\u001b[0m\n",
      "\u001b[1m[\u001b[0m\u001b[34;49mnotice\u001b[0m\u001b[1;39;49m]\u001b[0m\u001b[39;49m To update, run: \u001b[0m\u001b[32;49mpip install --upgrade pip\u001b[0m\n"
     ]
    }
   ],
   "source": [
    "#The \"openpyxl\" is prepared to work in our code\n",
    "!pip install pandas openpyxl"
   ]
  },
  {
   "cell_type": "code",
   "execution_count": 2,
   "id": "870b1bc3-5ce7-4538-aab1-760df4c4b1e7",
   "metadata": {},
   "outputs": [],
   "source": [
    "#Data analisis libraries are called\n",
    "import pandas as pd\n",
    "import numpy as np"
   ]
  },
  {
   "cell_type": "code",
   "execution_count": 3,
   "id": "0345e5e3-ac13-4beb-9f58-077051590c4c",
   "metadata": {},
   "outputs": [],
   "source": [
    "#File path is saved in a variable to use in the following steps\n",
    "file_path = r'/home/aldrinchp/Documents/Proyecto Plantas/Medicinal_plants_database/Proyecto plantas medicinales.xlsx'\n",
    "#Excel file is loaded\n",
    "excel_data = pd.ExcelFile(file_path)"
   ]
  },
  {
   "cell_type": "code",
   "execution_count": 4,
   "id": "15093cf0-c49b-467a-bb2e-659a0a3c588a",
   "metadata": {},
   "outputs": [],
   "source": [
    "#Find cell function is created to search the row and column in every datasheet of the file\n",
    "#Input: A data sheet of a excel\n",
    "#Ouput: Start row and column of that datasheet\n",
    "def detect_table_start(sheet_data):\n",
    "    for row_idx, row in sheet_data.iterrows():\n",
    "        # Check if the row has enough non-NaN values to be a potential header\n",
    "        if row.notna().sum() > 3:  # Example: At least 4 non-NaN values\n",
    "            # Find the first non-NaN column index\n",
    "            col_idx = row.first_valid_index()\n",
    "            return int(row_idx+2), int(col_idx) # Return the starting row and column\n",
    "    return None, None  # Return None if no table start is found\n",
    "\n",
    "#Adjust the dataframes of a excel file\n",
    "#Input: File path\n",
    "#Output: Dictionary of dataframes\n",
    "def adjust_the_sheets(file_path):\n",
    "    dict_dataframes = {}\n",
    "    excel_data = pd.ExcelFile(file_path)\n",
    "    i = 0\n",
    "    for sheet_name in excel_data.sheet_names:\n",
    "        sheet_data = pd.read_excel(file_path,sheet_name=sheet_name,header=None,engine = 'openpyxl')\n",
    "        row_idx,col_idx = detect_table_start(sheet_data)\n",
    "        if i != 4:\n",
    "            ##\n",
    "            print(f\"Sheet {sheet_name} start at {row_idx} row and {col_idx} column\")\n",
    "            ##\n",
    "            dict_dataframes[sheet_name] = sheet_data.iloc[row_idx:,col_idx:]\n",
    "        else:\n",
    "            ##\n",
    "            Corrected_sheet = 'Cotacachi'\n",
    "            print(f\"Sheet {Corrected_sheet} start at {row_idx} row and {col_idx} column\")\n",
    "            ##\n",
    "            dict_dataframes[Corrected_sheet] = sheet_data.iloc[row_idx:,col_idx:]\n",
    "        i += 1\n",
    "    return dict_dataframes"
   ]
  },
  {
   "cell_type": "code",
   "execution_count": 5,
   "id": "6007868a-3e01-4e29-90f6-cc955e91749f",
   "metadata": {},
   "outputs": [
    {
     "name": "stdout",
     "output_type": "stream",
     "text": [
      "Sheet Antonio Ante start at 2 row and 0 column\n",
      "Sheet Urcuquí start at 3 row and 1 column\n",
      "Sheet Pimampiro start at 4 row and 0 column\n",
      "Sheet Otavalo start at 3 row and 0 column\n",
      "Sheet Cotacachi start at 3 row and 0 column\n",
      "Sheet Ibarra start at 3 row and 1 column\n",
      "Sheet formato start at 4 row and 2 column\n"
     ]
    }
   ],
   "source": [
    "#Datasheets are set in a dictionary\n",
    "cities_dataframes = adjust_the_sheets(file_path)"
   ]
  },
  {
   "cell_type": "code",
   "execution_count": 6,
   "id": "2de070f2-1e78-47f9-acd4-3adf71dafc8b",
   "metadata": {},
   "outputs": [],
   "source": [
    "#cities_dataframes['Antonio Ante']\n",
    "#cities_dataframes['Pimampiro']\n",
    "#cities_dataframes['Cotacachi']"
   ]
  },
  {
   "cell_type": "code",
   "execution_count": 7,
   "id": "1a99053f-5d55-4d38-a0cd-1f11c18b9d58",
   "metadata": {},
   "outputs": [
    {
     "data": {
      "application/vnd.microsoft.datawrangler.viewer.v0+json": {
       "columns": [
        {
         "name": "index",
         "rawType": "int64",
         "type": "integer"
        },
        {
         "name": "2",
         "rawType": "object",
         "type": "unknown"
        },
        {
         "name": "3",
         "rawType": "object",
         "type": "unknown"
        },
        {
         "name": "4",
         "rawType": "object",
         "type": "unknown"
        },
        {
         "name": "5",
         "rawType": "object",
         "type": "unknown"
        },
        {
         "name": "6",
         "rawType": "object",
         "type": "unknown"
        },
        {
         "name": "7",
         "rawType": "object",
         "type": "unknown"
        },
        {
         "name": "8",
         "rawType": "object",
         "type": "unknown"
        },
        {
         "name": "9",
         "rawType": "object",
         "type": "unknown"
        },
        {
         "name": "10",
         "rawType": "object",
         "type": "unknown"
        },
        {
         "name": "11",
         "rawType": "object",
         "type": "unknown"
        },
        {
         "name": "12",
         "rawType": "object",
         "type": "unknown"
        },
        {
         "name": "13",
         "rawType": "float64",
         "type": "float"
        },
        {
         "name": "14",
         "rawType": "float64",
         "type": "float"
        }
       ],
       "conversionMethod": "pd.DataFrame",
       "ref": "32943bd9-c23d-4c7f-99f8-1ce9329a6240",
       "rows": [
        [
         "4",
         "1",
         null,
         null,
         null,
         null,
         null,
         null,
         null,
         null,
         null,
         null,
         null,
         null
        ],
        [
         "5",
         "2",
         null,
         null,
         null,
         null,
         null,
         null,
         null,
         null,
         null,
         null,
         null,
         null
        ],
        [
         "6",
         "3",
         null,
         null,
         null,
         null,
         null,
         null,
         null,
         null,
         null,
         null,
         null,
         null
        ],
        [
         "7",
         "4",
         null,
         null,
         null,
         null,
         null,
         null,
         null,
         null,
         null,
         null,
         null,
         null
        ],
        [
         "8",
         "5",
         null,
         null,
         null,
         null,
         null,
         null,
         null,
         null,
         null,
         null,
         null,
         null
        ],
        [
         "9",
         "6",
         null,
         null,
         null,
         null,
         null,
         null,
         null,
         null,
         null,
         null,
         null,
         null
        ],
        [
         "10",
         "7",
         null,
         null,
         null,
         null,
         null,
         null,
         null,
         null,
         null,
         null,
         null,
         null
        ],
        [
         "11",
         "8",
         null,
         null,
         null,
         null,
         null,
         null,
         null,
         null,
         null,
         null,
         null,
         null
        ],
        [
         "12",
         "9",
         null,
         null,
         null,
         null,
         null,
         null,
         null,
         null,
         null,
         null,
         null,
         null
        ],
        [
         "13",
         "10",
         null,
         null,
         null,
         null,
         null,
         null,
         null,
         null,
         null,
         null,
         null,
         null
        ],
        [
         "14",
         "11",
         null,
         null,
         null,
         null,
         null,
         null,
         null,
         null,
         null,
         null,
         null,
         null
        ],
        [
         "15",
         "12",
         null,
         null,
         null,
         null,
         null,
         null,
         null,
         null,
         null,
         null,
         null,
         null
        ]
       ],
       "shape": {
        "columns": 13,
        "rows": 12
       }
      },
      "text/html": [
       "<div>\n",
       "<style scoped>\n",
       "    .dataframe tbody tr th:only-of-type {\n",
       "        vertical-align: middle;\n",
       "    }\n",
       "\n",
       "    .dataframe tbody tr th {\n",
       "        vertical-align: top;\n",
       "    }\n",
       "\n",
       "    .dataframe thead th {\n",
       "        text-align: right;\n",
       "    }\n",
       "</style>\n",
       "<table border=\"1\" class=\"dataframe\">\n",
       "  <thead>\n",
       "    <tr style=\"text-align: right;\">\n",
       "      <th></th>\n",
       "      <th>2</th>\n",
       "      <th>3</th>\n",
       "      <th>4</th>\n",
       "      <th>5</th>\n",
       "      <th>6</th>\n",
       "      <th>7</th>\n",
       "      <th>8</th>\n",
       "      <th>9</th>\n",
       "      <th>10</th>\n",
       "      <th>11</th>\n",
       "      <th>12</th>\n",
       "      <th>13</th>\n",
       "      <th>14</th>\n",
       "    </tr>\n",
       "  </thead>\n",
       "  <tbody>\n",
       "    <tr>\n",
       "      <th>4</th>\n",
       "      <td>1</td>\n",
       "      <td>NaN</td>\n",
       "      <td>NaN</td>\n",
       "      <td>NaN</td>\n",
       "      <td>NaN</td>\n",
       "      <td>NaN</td>\n",
       "      <td>NaN</td>\n",
       "      <td>NaN</td>\n",
       "      <td>NaN</td>\n",
       "      <td>NaN</td>\n",
       "      <td>NaN</td>\n",
       "      <td>NaN</td>\n",
       "      <td>NaN</td>\n",
       "    </tr>\n",
       "    <tr>\n",
       "      <th>5</th>\n",
       "      <td>2</td>\n",
       "      <td>NaN</td>\n",
       "      <td>NaN</td>\n",
       "      <td>NaN</td>\n",
       "      <td>NaN</td>\n",
       "      <td>NaN</td>\n",
       "      <td>NaN</td>\n",
       "      <td>NaN</td>\n",
       "      <td>NaN</td>\n",
       "      <td>NaN</td>\n",
       "      <td>NaN</td>\n",
       "      <td>NaN</td>\n",
       "      <td>NaN</td>\n",
       "    </tr>\n",
       "    <tr>\n",
       "      <th>6</th>\n",
       "      <td>3</td>\n",
       "      <td>NaN</td>\n",
       "      <td>NaN</td>\n",
       "      <td>NaN</td>\n",
       "      <td>NaN</td>\n",
       "      <td>NaN</td>\n",
       "      <td>NaN</td>\n",
       "      <td>NaN</td>\n",
       "      <td>NaN</td>\n",
       "      <td>NaN</td>\n",
       "      <td>NaN</td>\n",
       "      <td>NaN</td>\n",
       "      <td>NaN</td>\n",
       "    </tr>\n",
       "    <tr>\n",
       "      <th>7</th>\n",
       "      <td>4</td>\n",
       "      <td>NaN</td>\n",
       "      <td>NaN</td>\n",
       "      <td>NaN</td>\n",
       "      <td>NaN</td>\n",
       "      <td>NaN</td>\n",
       "      <td>NaN</td>\n",
       "      <td>NaN</td>\n",
       "      <td>NaN</td>\n",
       "      <td>NaN</td>\n",
       "      <td>NaN</td>\n",
       "      <td>NaN</td>\n",
       "      <td>NaN</td>\n",
       "    </tr>\n",
       "    <tr>\n",
       "      <th>8</th>\n",
       "      <td>5</td>\n",
       "      <td>NaN</td>\n",
       "      <td>NaN</td>\n",
       "      <td>NaN</td>\n",
       "      <td>NaN</td>\n",
       "      <td>NaN</td>\n",
       "      <td>NaN</td>\n",
       "      <td>NaN</td>\n",
       "      <td>NaN</td>\n",
       "      <td>NaN</td>\n",
       "      <td>NaN</td>\n",
       "      <td>NaN</td>\n",
       "      <td>NaN</td>\n",
       "    </tr>\n",
       "    <tr>\n",
       "      <th>9</th>\n",
       "      <td>6</td>\n",
       "      <td>NaN</td>\n",
       "      <td>NaN</td>\n",
       "      <td>NaN</td>\n",
       "      <td>NaN</td>\n",
       "      <td>NaN</td>\n",
       "      <td>NaN</td>\n",
       "      <td>NaN</td>\n",
       "      <td>NaN</td>\n",
       "      <td>NaN</td>\n",
       "      <td>NaN</td>\n",
       "      <td>NaN</td>\n",
       "      <td>NaN</td>\n",
       "    </tr>\n",
       "    <tr>\n",
       "      <th>10</th>\n",
       "      <td>7</td>\n",
       "      <td>NaN</td>\n",
       "      <td>NaN</td>\n",
       "      <td>NaN</td>\n",
       "      <td>NaN</td>\n",
       "      <td>NaN</td>\n",
       "      <td>NaN</td>\n",
       "      <td>NaN</td>\n",
       "      <td>NaN</td>\n",
       "      <td>NaN</td>\n",
       "      <td>NaN</td>\n",
       "      <td>NaN</td>\n",
       "      <td>NaN</td>\n",
       "    </tr>\n",
       "    <tr>\n",
       "      <th>11</th>\n",
       "      <td>8</td>\n",
       "      <td>NaN</td>\n",
       "      <td>NaN</td>\n",
       "      <td>NaN</td>\n",
       "      <td>NaN</td>\n",
       "      <td>NaN</td>\n",
       "      <td>NaN</td>\n",
       "      <td>NaN</td>\n",
       "      <td>NaN</td>\n",
       "      <td>NaN</td>\n",
       "      <td>NaN</td>\n",
       "      <td>NaN</td>\n",
       "      <td>NaN</td>\n",
       "    </tr>\n",
       "    <tr>\n",
       "      <th>12</th>\n",
       "      <td>9</td>\n",
       "      <td>NaN</td>\n",
       "      <td>NaN</td>\n",
       "      <td>NaN</td>\n",
       "      <td>NaN</td>\n",
       "      <td>NaN</td>\n",
       "      <td>NaN</td>\n",
       "      <td>NaN</td>\n",
       "      <td>NaN</td>\n",
       "      <td>NaN</td>\n",
       "      <td>NaN</td>\n",
       "      <td>NaN</td>\n",
       "      <td>NaN</td>\n",
       "    </tr>\n",
       "    <tr>\n",
       "      <th>13</th>\n",
       "      <td>10</td>\n",
       "      <td>NaN</td>\n",
       "      <td>NaN</td>\n",
       "      <td>NaN</td>\n",
       "      <td>NaN</td>\n",
       "      <td>NaN</td>\n",
       "      <td>NaN</td>\n",
       "      <td>NaN</td>\n",
       "      <td>NaN</td>\n",
       "      <td>NaN</td>\n",
       "      <td>NaN</td>\n",
       "      <td>NaN</td>\n",
       "      <td>NaN</td>\n",
       "    </tr>\n",
       "    <tr>\n",
       "      <th>14</th>\n",
       "      <td>11</td>\n",
       "      <td>NaN</td>\n",
       "      <td>NaN</td>\n",
       "      <td>NaN</td>\n",
       "      <td>NaN</td>\n",
       "      <td>NaN</td>\n",
       "      <td>NaN</td>\n",
       "      <td>NaN</td>\n",
       "      <td>NaN</td>\n",
       "      <td>NaN</td>\n",
       "      <td>NaN</td>\n",
       "      <td>NaN</td>\n",
       "      <td>NaN</td>\n",
       "    </tr>\n",
       "    <tr>\n",
       "      <th>15</th>\n",
       "      <td>12</td>\n",
       "      <td>NaN</td>\n",
       "      <td>NaN</td>\n",
       "      <td>NaN</td>\n",
       "      <td>NaN</td>\n",
       "      <td>NaN</td>\n",
       "      <td>NaN</td>\n",
       "      <td>NaN</td>\n",
       "      <td>NaN</td>\n",
       "      <td>NaN</td>\n",
       "      <td>NaN</td>\n",
       "      <td>NaN</td>\n",
       "      <td>NaN</td>\n",
       "    </tr>\n",
       "  </tbody>\n",
       "</table>\n",
       "</div>"
      ],
      "text/plain": [
       "    2    3    4    5    6    7    8    9    10   11   12  13  14\n",
       "4    1  NaN  NaN  NaN  NaN  NaN  NaN  NaN  NaN  NaN  NaN NaN NaN\n",
       "5    2  NaN  NaN  NaN  NaN  NaN  NaN  NaN  NaN  NaN  NaN NaN NaN\n",
       "6    3  NaN  NaN  NaN  NaN  NaN  NaN  NaN  NaN  NaN  NaN NaN NaN\n",
       "7    4  NaN  NaN  NaN  NaN  NaN  NaN  NaN  NaN  NaN  NaN NaN NaN\n",
       "8    5  NaN  NaN  NaN  NaN  NaN  NaN  NaN  NaN  NaN  NaN NaN NaN\n",
       "9    6  NaN  NaN  NaN  NaN  NaN  NaN  NaN  NaN  NaN  NaN NaN NaN\n",
       "10   7  NaN  NaN  NaN  NaN  NaN  NaN  NaN  NaN  NaN  NaN NaN NaN\n",
       "11   8  NaN  NaN  NaN  NaN  NaN  NaN  NaN  NaN  NaN  NaN NaN NaN\n",
       "12   9  NaN  NaN  NaN  NaN  NaN  NaN  NaN  NaN  NaN  NaN NaN NaN\n",
       "13  10  NaN  NaN  NaN  NaN  NaN  NaN  NaN  NaN  NaN  NaN NaN NaN\n",
       "14  11  NaN  NaN  NaN  NaN  NaN  NaN  NaN  NaN  NaN  NaN NaN NaN\n",
       "15  12  NaN  NaN  NaN  NaN  NaN  NaN  NaN  NaN  NaN  NaN NaN NaN"
      ]
     },
     "execution_count": 7,
     "metadata": {},
     "output_type": "execute_result"
    }
   ],
   "source": [
    "#Last sheet is deleted\n",
    "cities_dataframes.pop('formato')"
   ]
  },
  {
   "cell_type": "code",
   "execution_count": 8,
   "id": "c4110015-8784-4cf0-b53c-ffd0a131c5a1",
   "metadata": {},
   "outputs": [
    {
     "data": {
      "text/plain": [
       "['Antonio Ante', 'Urcuquí', 'Pimampiro', 'Otavalo', 'Cotacachi', 'Ibarra']"
      ]
     },
     "execution_count": 8,
     "metadata": {},
     "output_type": "execute_result"
    }
   ],
   "source": [
    "#A list of all places of the databases are created\n",
    "places_list = list(cities_dataframes.keys())\n",
    "#Places of the list are printed (List)\n",
    "places_list"
   ]
  },
  {
   "cell_type": "code",
   "execution_count": 9,
   "id": "d0a2152d-42ae-48a7-aff9-4a18e6d33a2a",
   "metadata": {},
   "outputs": [
    {
     "name": "stdout",
     "output_type": "stream",
     "text": [
      "['Ancestral reportado/ no comprobado', 'Ancestral segun fuentes vivas', 'Cientificamente comprobado ']\n"
     ]
    }
   ],
   "source": [
    "temporal_dataframe = pd.read_excel(file_path, sheet_name=places_list[0])\n",
    "type_uses = temporal_dataframe.iloc[0,4:7].tolist()\n",
    "print(type_uses)"
   ]
  },
  {
   "cell_type": "code",
   "execution_count": 10,
   "id": "0a83dde4-9409-416f-abdd-d5d6832fedd7",
   "metadata": {},
   "outputs": [
    {
     "data": {
      "text/plain": [
       "[['Llantén', 'Plantago major'],\n",
       " ['Flor de Tilo', 'Tilia platyphyllos Scop'],\n",
       " ['Hierba Mora', 'Solanum americanum'],\n",
       " ['Borraja', 'Borago officinalis L.\\nBOR-001'],\n",
       " ['Tomillo', 'Thymus vulgaris L.\\nLAM-022'],\n",
       " ['Eucalipto', 'Eucalyptus globulus\\nLabill.\\nMYR-021'],\n",
       " ['Verbena', 'Verbena litoralis Kunth\\nVER-008'],\n",
       " ['Ruda', 'Ruta graveolens L.\\nRUT-001'],\n",
       " ['Matico', 'Piper aduncum L.\\nPIP-008'],\n",
       " ['Menta', 'Mentha piperita L.\\nLAM-006'],\n",
       " ['Arrayan ', 'Myrtus communis L.\\nMYR-025 '],\n",
       " ['Uña de gato', 'Acacia macracantha\\nHumb. & Bonpl. ex\\nWilld. LEG-005'],\n",
       " ['Chulco', 'Aciotis rubricaulis\\nTriana\\nMEL-019'],\n",
       " ['Ajo', 'Allium sativum L.'],\n",
       " ['Zorro guigua', 'Alopecurus spp.\\nPOA-023'],\n",
       " ['cedrón', 'Aloysia citriodora\\nVER-009'],\n",
       " ['Marco', 'Ambrosia arborescens\\nLam. AST-013'],\n",
       " ['Eneldo', 'Anethum graveolens L.\\nAPI-011'],\n",
       " ['Apio', 'Apium graveolens L.\\nAPI-008'],\n",
       " ['Ñachag', 'Bidens andicola Kunth\\nAST-025'],\n",
       " ['Pacunga', 'Bidens pilosa L.\\nAST-019'],\n",
       " ['Platanillo', 'Canna coccinea Mill.\\nCAN-011'],\n",
       " ['Hierba de perro', 'Castela tortuosa Liebm'],\n",
       " ['Paico', 'Chenopodium\\nambrosioides L.\\nCHE-002'],\n",
       " ['Canela', 'Cinnamomum verum J.\\nPresl Lau-021'],\n",
       " ['Botoncillo', 'Conocarpus erectus\\nCOM-018'],\n",
       " ['Mosquera', 'Croton elegans\\nEUP-001'],\n",
       " ['Corotilla', 'Cumulopuntia corotilla\\nK. Schum. ex Vaupel\\nCAC-011'],\n",
       " ['Hierba Luisa', 'Cymbopogon citratus\\nStapf.'],\n",
       " ['Iso', 'Dalea coerulea'],\n",
       " ['Chupa caballo,\\nCola de caballo', 'Equisetum giganteum L.\\nEQU-007'],\n",
       " ['Geranio', 'Geranium spp.\\nGER-001'],\n",
       " ['Cerote', 'Hesperomeles obtusifolia\\n(Pers.)Lindl.\\nROS-016'],\n",
       " ['Nogal', 'Juglans nigra L.\\nJUG-001'],\n",
       " ['Linaza', 'Linum usitatissimum L.\\nLIN-013'],\n",
       " ['Manzanilla', 'Matricaria\\nchamomilla L.\\nAST-002'],\n",
       " ['Hierba buena', 'Mentha spicata L.\\nLAM-005'],\n",
       " ['Albahaca', 'Ocimum basilicum L.\\nLAM-011'],\n",
       " ['Mejorana', 'Origanum majorana L.\\nLAM-007'],\n",
       " ['Orégano', 'Origanum vulgare L.\\nLAM-004'],\n",
       " ['Pata conyuyo', 'Peperomia peltigera\\nC.DC.\\nPIP-021'],\n",
       " ['Perejil', 'Petroselinum crispum\\n(Mill.) Fuss\\nAPI-010'],\n",
       " ['Diente de león', 'Taraxacum officinale'],\n",
       " ['Ortiga', 'Urtica dioica L.\\nURT-001']]"
      ]
     },
     "execution_count": 10,
     "metadata": {},
     "output_type": "execute_result"
    }
   ],
   "source": [
    "#Current and scientific names are obtained from datasheets and set in a dictionary\n",
    "plants_dict = {}\n",
    "for place in places_list:\n",
    "    list_of_lists_names = []\n",
    "    for i in range(cities_dataframes[place].shape[0]):\n",
    "        list_of_lists_names.append(cities_dataframes[place].iloc[i,2:4].tolist())\n",
    "    plants_dict[place] = list_of_lists_names\n",
    "#Current and scientific names are printed (Dictionary)\n",
    "plants_dict[places_list[4]]"
   ]
  },
  {
   "cell_type": "code",
   "execution_count": 11,
   "id": "2ef7e89e-123b-4996-aab0-41c8b17abadb",
   "metadata": {},
   "outputs": [
    {
     "data": {
      "text/plain": [
       "[['\\xa0Ingerida como tratamiento para\\xa0diarrea,\\xa0disentería, para evitar el estreñimiento, la indigestión,\\xa0flatulencia, contra la\\xa0ictericia\\xa0y como\\xa0laxante. La infusión de hojas como purgante y la raíz como diaforético y diurético.7\\u200b3\\u200b',\n",
       "  'Ancestral reportado/ no comprobado'],\n",
       " ['Sin información', 'Ancestral segun fuentes vivas'],\n",
       " [nan, 'Cientificamente comprobado ']]"
      ]
     },
     "execution_count": 11,
     "metadata": {},
     "output_type": "execute_result"
    }
   ],
   "source": [
    "#Uses and their descriptions are obtained form datasheets\n",
    "use_dict = {}\n",
    "for place in places_list:\n",
    "    list_per_city = []\n",
    "    for i in range(cities_dataframes[place].shape[0]):\n",
    "        list_per_plant = []\n",
    "        count = 0\n",
    "        for use in type_uses:\n",
    "            list_per_plant.append([cities_dataframes[place].iloc[i,4+count],use])\n",
    "            count = count+1\n",
    "        list_per_city.append(list_per_plant)\n",
    "    use_dict[place] = list_per_city\n",
    "#Uses and their descriptions are printed (Dictionary)\n",
    "use_dict[places_list[2]][3]"
   ]
  },
  {
   "cell_type": "code",
   "execution_count": 12,
   "id": "3487219e-2add-4f69-8e0d-318ee6e08f5e",
   "metadata": {},
   "outputs": [
    {
     "data": {
      "text/plain": [
       "['Sapkota, B., Devkota, H. P., & Poudel, P. (2022). Citrus maxima (Brum.) Merr. (Rutaceae): Bioactive Chemical Constituents and Pharmacological Activities. Evidence-based Complementary And Alternative Medicine, 2022, 1-16. https://doi.org/10.1155/2022/8741669                                                                              https://onlinelibrary.wiley.com/doi/full/10.1155/2022/8741669',\n",
       " nan,\n",
       " '\\xa0']"
      ]
     },
     "execution_count": 12,
     "metadata": {},
     "output_type": "execute_result"
    }
   ],
   "source": [
    "#Previous research are obtained from datasheets\n",
    "research_prev_dict = {}\n",
    "for place in places_list:\n",
    "    list_prev_res = []\n",
    "    for i in range(cities_dataframes[place].shape[0]):\n",
    "        list_prev_res.append(cities_dataframes[place].iloc[i,10:13].tolist())\n",
    "    research_prev_dict[place] = list_prev_res\n",
    "#Previous research are printed\n",
    "research_prev_dict[places_list[0]][18]\n",
    "#research_prev_dict[places_list[4]][13]"
   ]
  },
  {
   "cell_type": "code",
   "execution_count": 13,
   "id": "55234884-6df4-4e33-ace2-1288429aaf0e",
   "metadata": {},
   "outputs": [
    {
     "data": {
      "text/plain": [
       "[['The native range of this species is Temp. Eurasia to Arabian Peninsula, Macaronesia, N. & S. Africa.(1)',\n",
       "  'Se comercializan las hojas  frescas',\n",
       "  'Sede del Jambi Mascari en Cotacachi'],\n",
       " ['The native range of this species is Azores, Europe to W. Iran (1)',\n",
       "  'Se comercializan las hojas y flores',\n",
       "  'Cotacahi, Quiroga '],\n",
       " ['The native range of this species is W. & S. Europe to Temp. E. Asia, Macaronesia, N. & NE. Tropical Africa. (1)',\n",
       "  'Se comercializan las hojas y flores',\n",
       "  'Cotacahi, Quiroga , Azama'],\n",
       " ['The native range of this species is W. & Central Medit (1)',\n",
       "  nan,\n",
       "  'Cotacachi/ Laguna de cuicocha '],\n",
       " ['The native range of this species is SW. Europe, SE. Italy (1)', nan, nan],\n",
       " ['The native range of this species is S. Victoria to E. Tasmania. (1)',\n",
       "  nan,\n",
       "  nan],\n",
       " ['The native range of this species is Mexico to S. Tropical America.(1)',\n",
       "  nan,\n",
       "  nan],\n",
       " ['The native range of this genus is Macaronesia, Medit.(1)', nan, nan],\n",
       " ['The native range of this species is Mexico to Tropical America.(1)',\n",
       "  nan,\n",
       "  nan],\n",
       " ['The native range of this hybrid is Europe to Central Asia. (1)', nan, nan],\n",
       " ['Antonio Ante, Ibarra y OtavaloThe native range of this species is Macaronesia to Pakistan (1)',\n",
       "  nan,\n",
       "  nan],\n",
       " ['The native range of this species is Central & S. Tropical America to Trinidad. (1)',\n",
       "  nan,\n",
       "  nan],\n",
       " ['Antonio Ante, Ibarra y Otavalo', nan, nan],\n",
       " ['The native range of this species is Central Asia to NE. Iran (1)',\n",
       "  nan,\n",
       "  'Los Andes Cotacachi Jatuk Cem'],\n",
       " ['Antonio Ante, Ibarra y Otavalo', nan, 'Los Andes Cotacachi Jatuk Cem'],\n",
       " ['The native range of this species is S. Bolivia to NW. Argentina. (1)',\n",
       "  nan,\n",
       "  nan],\n",
       " ['The native range of this species is W. South America to Chile (Coquimbo) (1)',\n",
       "  nan,\n",
       "  nan],\n",
       " ['The native range of this species is Canary Islands, Medit. to Arabian Peninsula. (1)',\n",
       "  nan,\n",
       "  nan],\n",
       " ['Antonio Ante, Ibarra y Otavalo', nan, 'Los Andes Cotacachi Jatuk Cem'],\n",
       " ['Antonio Ante, Ibarra y Otavalo', nan, nan],\n",
       " ['Antonio Ante, Ibarra y Otavalo', nan, nan],\n",
       " ['Antonio Ante, Ibarra y Otavalo', nan, nan],\n",
       " ['Antonio Ante, Ibarra y Otavalo', nan, nan],\n",
       " ['The native range of this species is America, Subantarctic Islands (1)',\n",
       "  nan,\n",
       "  nan],\n",
       " ['Antonio Ante, Ibarra y Otavalo', nan, nan],\n",
       " ['Antonio Ante, Ibarra y Otavalo', nan, nan],\n",
       " ['(1)anti-inflammatory, in the treatment of toothache, wounds, tonsillitis an warts. It is also a powerful purgative',\n",
       "  nan,\n",
       "  nan],\n",
       " ['Antonio Ante, Ibarra y Otavalo', nan, nan],\n",
       " ['The native range of this species is S. India, Sri Lanka. (1)', nan, nan],\n",
       " ['The native range of this species is W. South America.(1)', nan, nan],\n",
       " ['The native range of this species is Subarctic & Temp. Northern Hemisphere. (1)',\n",
       "  nan,\n",
       "  nan],\n",
       " ['Antonio Ante, Ibarra y Otavalo', nan, nan],\n",
       " ['Antonio Ante, Ibarra y Otavalo', nan, nan],\n",
       " ['Antonio Ante, Ibarra y Otavalo', nan, nan],\n",
       " ['Antonio Ante, Ibarra y Otavalo', nan, nan],\n",
       " ['The native range of this species is Macaronesia, N. Africa, Temp. Eurasia to Indo-China.  (1)',\n",
       "  nan,\n",
       "  nan],\n",
       " ['The native range of this species is Europe to China. (1)',\n",
       "  'Cotama, Silvestre, se comercializa la flor y las hojas',\n",
       "  nan],\n",
       " ['Antonio Ante, Ibarra y Otavalo', nan, nan],\n",
       " ['Antonio Ante, Ibarra y Otavalo', nan, nan],\n",
       " ['The native range of this species is Macaronesia to China. (1)', nan, nan],\n",
       " ['The native range of this species is Ecuador. (1)', nan, nan],\n",
       " ['Occurs naturally in Western Europe from the British Isles\\nto the Iberian Peninsula (2)',\n",
       "  nan,\n",
       "  nan],\n",
       " ['The native range of this species is Macaronesia, Europe to Siberia, NW. Africa (1)',\n",
       "  nan,\n",
       "  'Comunidades de Quitugo '],\n",
       " ['The native range of this species is Europe to Siberia and W. China, NW. Africa.(1)',\n",
       "  nan,\n",
       "  nan]]"
      ]
     },
     "execution_count": 13,
     "metadata": {},
     "output_type": "execute_result"
    }
   ],
   "source": [
    "#Toponimo features are obtained from datasheets\n",
    "toponimo_dict = {}\n",
    "for place in places_list:\n",
    "    list_topo = []\n",
    "    for i in range(cities_dataframes[place].shape[0]):\n",
    "        list_topo.append(cities_dataframes[place].iloc[i,7:10].tolist())\n",
    "    toponimo_dict[place] = list_topo\n",
    "#Toponimo features are printed \n",
    "toponimo_dict[places_list[4]]"
   ]
  },
  {
   "cell_type": "code",
   "execution_count": 14,
   "id": "8afb1edc-8651-4b32-b24c-bd10bfe8dda8",
   "metadata": {},
   "outputs": [
    {
     "name": "stdout",
     "output_type": "stream",
     "text": [
      "Plants in Antonio Ante are 42\n",
      "Plants in Urcuquí are 34\n",
      "Plants in Pimampiro are 10\n",
      "Plants in Otavalo are 19\n",
      "Plants in Cotacachi are 44\n",
      "Plants in Ibarra are 31\n"
     ]
    },
    {
     "data": {
      "text/plain": [
       "180"
      ]
     },
     "execution_count": 14,
     "metadata": {},
     "output_type": "execute_result"
    }
   ],
   "source": [
    "#Total of register plants are obtained\n",
    "total_plants = 0\n",
    "for key, item in plants_dict.items():\n",
    "    total_plants = total_plants + len(item)\n",
    "    print(f\"Plants in {key} are {len(item)}\")\n",
    "#Total plants is printed\n",
    "total_plants"
   ]
  },
  {
   "cell_type": "markdown",
   "id": "ee8e6a2f-cebb-488b-86bd-a8fca9389b63",
   "metadata": {},
   "source": [
    "### Data cleaning of the excel document"
   ]
  },
  {
   "cell_type": "code",
   "execution_count": 15,
   "id": "23cb9b8f-4113-4577-8906-081a9e4aefcb",
   "metadata": {},
   "outputs": [
    {
     "name": "stdout",
     "output_type": "stream",
     "text": [
      "Requirement already satisfied: nltk in /home/aldrinchp/Documents/Proyecto Plantas/.venv/lib/python3.11/site-packages (3.9.1)\n",
      "Requirement already satisfied: click in /home/aldrinchp/Documents/Proyecto Plantas/.venv/lib/python3.11/site-packages (from nltk) (8.1.8)\n",
      "Requirement already satisfied: joblib in /home/aldrinchp/Documents/Proyecto Plantas/.venv/lib/python3.11/site-packages (from nltk) (1.4.2)\n",
      "Requirement already satisfied: regex>=2021.8.3 in /home/aldrinchp/Documents/Proyecto Plantas/.venv/lib/python3.11/site-packages (from nltk) (2024.11.6)\n",
      "Requirement already satisfied: tqdm in /home/aldrinchp/Documents/Proyecto Plantas/.venv/lib/python3.11/site-packages (from nltk) (4.67.1)\n",
      "\n",
      "\u001b[1m[\u001b[0m\u001b[34;49mnotice\u001b[0m\u001b[1;39;49m]\u001b[0m\u001b[39;49m A new release of pip is available: \u001b[0m\u001b[31;49m25.1\u001b[0m\u001b[39;49m -> \u001b[0m\u001b[32;49m25.1.1\u001b[0m\n",
      "\u001b[1m[\u001b[0m\u001b[34;49mnotice\u001b[0m\u001b[1;39;49m]\u001b[0m\u001b[39;49m To update, run: \u001b[0m\u001b[32;49mpip install --upgrade pip\u001b[0m\n"
     ]
    }
   ],
   "source": [
    "!pip install nltk"
   ]
  },
  {
   "cell_type": "code",
   "execution_count": 16,
   "id": "3bffca58-ad51-45ff-b541-8f07f48e8e55",
   "metadata": {},
   "outputs": [],
   "source": [
    "import nltk\n",
    "import re\n"
   ]
  },
  {
   "cell_type": "code",
   "execution_count": 17,
   "id": "f60234c3-ab4b-4309-bb71-45ecc94e1af7",
   "metadata": {},
   "outputs": [
    {
     "name": "stderr",
     "output_type": "stream",
     "text": [
      "[nltk_data] Downloading package punkt_tab to\n",
      "[nltk_data]     /home/aldrinchp/nltk_data...\n",
      "[nltk_data]   Package punkt_tab is already up-to-date!\n",
      "[nltk_data] Downloading package punkt to /home/aldrinchp/nltk_data...\n",
      "[nltk_data]   Package punkt is already up-to-date!\n"
     ]
    },
    {
     "data": {
      "text/plain": [
       "True"
      ]
     },
     "execution_count": 17,
     "metadata": {},
     "output_type": "execute_result"
    }
   ],
   "source": [
    "from nltk.tokenize import sent_tokenize\n",
    "nltk.download('punkt_tab')\n",
    "\n",
    "# Descargar datos necesarios para la tokenización de oraciones (solo es necesario una vez)\n",
    "nltk.download('punkt')"
   ]
  },
  {
   "cell_type": "code",
   "execution_count": 18,
   "id": "d2f19654-193f-4568-9d6c-8c24c1ab9e9a",
   "metadata": {},
   "outputs": [],
   "source": [
    "#Input: A list\n",
    "#Output: A corrected list\n",
    "def correct_string(lista,option):\n",
    "    for i in range(len(lista)):\n",
    "        if pd.isna(lista[i]):\n",
    "            continue\n",
    "        \n",
    "        # Eliminar saltos de línea y espacios adicionales\n",
    "        lista[i] = lista[i].replace('\\n', ' ').strip()\n",
    "        lista[i] = re.sub(r'\\s+', ' ', lista[i])  # Eliminar espacios múltiples\n",
    "\n",
    "        if lista[i] == '':\n",
    "                lista[i] = np.nan\n",
    "            \n",
    "        if option == 1:\n",
    "            palabras = lista[i].split()\n",
    "            palabras[0] = palabras[0].capitalize()\n",
    "            lista[i] = \" \".join(palabras)\n",
    "            \n",
    "            \n",
    "        elif option == 2:\n",
    "            # Dividir en oraciones y capitalizar cada una\n",
    "            lista[i] = re.sub(r'[^\\w\\s.,;:!?¡¿áéíóúÁÉÍÓÚñÑ]', '', lista[i]) #Mantener caracteres Unicode imprimibles**\n",
    "            sentences = sent_tokenize(lista[i])\n",
    "            lista[i] = ' '.join([s.capitalize() for s in sentences])  # Capitalizar cada oración\n",
    "        elif option == 3:\n",
    "            continue\n",
    "\n",
    "        \n",
    "        #r'[^\\x20-\\x7E\\n]'\n",
    "    return lista\n",
    "    #Here, It could be deleted and there will be not problem"
   ]
  },
  {
   "cell_type": "code",
   "execution_count": 19,
   "id": "f1d3490a-957e-48ac-99c0-0a32209dee60",
   "metadata": {},
   "outputs": [
    {
     "data": {
      "text/plain": [
       "[['Llantén', 'Plantago major'],\n",
       " ['Flor de Tilo', 'Tilia platyphyllos Scop'],\n",
       " ['Hierba Mora', 'Solanum americanum'],\n",
       " ['Borraja', 'Borago officinalis L. BOR-001'],\n",
       " ['Tomillo', 'Thymus vulgaris L. LAM-022'],\n",
       " ['Eucalipto', 'Eucalyptus globulus Labill. MYR-021'],\n",
       " ['Verbena', 'Verbena litoralis Kunth VER-008'],\n",
       " ['Ruda', 'Ruta graveolens L. RUT-001'],\n",
       " ['Matico', 'Piper aduncum L. PIP-008'],\n",
       " ['Menta', 'Mentha piperita L. LAM-006'],\n",
       " ['Arrayan', 'Myrtus communis L. MYR-025'],\n",
       " ['Uña de gato', 'Acacia macracantha Humb. & Bonpl. ex Willd. LEG-005'],\n",
       " ['Chulco', 'Aciotis rubricaulis Triana MEL-019'],\n",
       " ['Ajo', 'Allium sativum L.'],\n",
       " ['Zorro guigua', 'Alopecurus spp. POA-023'],\n",
       " ['Cedrón', 'Aloysia citriodora VER-009'],\n",
       " ['Marco', 'Ambrosia arborescens Lam. AST-013'],\n",
       " ['Eneldo', 'Anethum graveolens L. API-011'],\n",
       " ['Apio', 'Apium graveolens L. API-008'],\n",
       " ['Ñachag', 'Bidens andicola Kunth AST-025'],\n",
       " ['Pacunga', 'Bidens pilosa L. AST-019'],\n",
       " ['Platanillo', 'Canna coccinea Mill. CAN-011'],\n",
       " ['Hierba de perro', 'Castela tortuosa Liebm'],\n",
       " ['Paico', 'Chenopodium ambrosioides L. CHE-002'],\n",
       " ['Canela', 'Cinnamomum verum J. Presl Lau-021'],\n",
       " ['Botoncillo', 'Conocarpus erectus COM-018'],\n",
       " ['Mosquera', 'Croton elegans EUP-001'],\n",
       " ['Corotilla', 'Cumulopuntia corotilla K. Schum. ex Vaupel CAC-011'],\n",
       " ['Hierba Luisa', 'Cymbopogon citratus Stapf.'],\n",
       " ['Iso', 'Dalea coerulea'],\n",
       " ['Chupa caballo, Cola de caballo', 'Equisetum giganteum L. EQU-007'],\n",
       " ['Geranio', 'Geranium spp. GER-001'],\n",
       " ['Cerote', 'Hesperomeles obtusifolia (Pers.)Lindl. ROS-016'],\n",
       " ['Nogal', 'Juglans nigra L. JUG-001'],\n",
       " ['Linaza', 'Linum usitatissimum L. LIN-013'],\n",
       " ['Manzanilla', 'Matricaria chamomilla L. AST-002'],\n",
       " ['Hierba buena', 'Mentha spicata L. LAM-005'],\n",
       " ['Albahaca', 'Ocimum basilicum L. LAM-011'],\n",
       " ['Mejorana', 'Origanum majorana L. LAM-007'],\n",
       " ['Orégano', 'Origanum vulgare L. LAM-004'],\n",
       " ['Pata conyuyo', 'Peperomia peltigera C.DC. PIP-021'],\n",
       " ['Perejil', 'Petroselinum crispum (Mill.) Fuss API-010'],\n",
       " ['Diente de león', 'Taraxacum officinale'],\n",
       " ['Ortiga', 'Urtica dioica L. URT-001']]"
      ]
     },
     "execution_count": 19,
     "metadata": {},
     "output_type": "execute_result"
    }
   ],
   "source": [
    "for city in places_list:\n",
    "    for plant in plants_dict[city]:\n",
    "        correct_string(plant,1)\n",
    "        \n",
    "plants_dict[places_list[4]]"
   ]
  },
  {
   "cell_type": "code",
   "execution_count": 20,
   "id": "23d9b788-53a3-4ed3-95f3-ddaf775ca019",
   "metadata": {
    "scrolled": true
   },
   "outputs": [
    {
     "data": {
      "text/plain": [
       "[['Ingerida como tratamiento para diarrea, disentería, para evitar el estreñimiento, la indigestión, flatulencia, contra la ictericia y como laxante. La infusión de hojas como purgante y la raíz como diaforético y diurético.73',\n",
       "  'Ancestral reportado no comprobado'],\n",
       " ['Sin información', 'Ancestral segun fuentes vivas'],\n",
       " [nan, 'Cientificamente comprobado']]"
      ]
     },
     "execution_count": 20,
     "metadata": {},
     "output_type": "execute_result"
    }
   ],
   "source": [
    "for city in places_list:\n",
    "    for plant in use_dict[city]:\n",
    "        for element in plant:\n",
    "            correct_string(element,2)\n",
    "use_dict[places_list[2]][3]"
   ]
  },
  {
   "cell_type": "code",
   "execution_count": 21,
   "id": "e24717a2-21da-4230-8a48-3c730d862551",
   "metadata": {},
   "outputs": [
    {
     "data": {
      "text/plain": [
       "['Sapkota, B., Devkota, H. P., & Poudel, P. (2022). Citrus maxima (Brum.) Merr. (Rutaceae): Bioactive Chemical Constituents and Pharmacological Activities. Evidence-based Complementary And Alternative Medicine, 2022, 1-16. https://doi.org/10.1155/2022/8741669 https://onlinelibrary.wiley.com/doi/full/10.1155/2022/8741669',\n",
       " nan,\n",
       " nan]"
      ]
     },
     "execution_count": 21,
     "metadata": {},
     "output_type": "execute_result"
    }
   ],
   "source": [
    "for city in places_list:\n",
    "    for plant in research_prev_dict[city]:\n",
    "            correct_string(plant,3)\n",
    "research_prev_dict[places_list[0]][18]"
   ]
  },
  {
   "cell_type": "code",
   "execution_count": 22,
   "id": "0bc621f4-8605-4b43-8842-0cac86520b5f",
   "metadata": {},
   "outputs": [
    {
     "data": {
      "text/plain": [
       "[['The native range of this species is Temp. Eurasia to Arabian Peninsula, Macaronesia, N. & S. Africa.(1)',\n",
       "  'Se comercializan las hojas frescas',\n",
       "  'Sede del Jambi Mascari en Cotacachi'],\n",
       " ['The native range of this species is Azores, Europe to W. Iran (1)',\n",
       "  'Se comercializan las hojas y flores',\n",
       "  'Cotacahi, Quiroga'],\n",
       " ['The native range of this species is W. & S. Europe to Temp. E. Asia, Macaronesia, N. & NE. Tropical Africa. (1)',\n",
       "  'Se comercializan las hojas y flores',\n",
       "  'Cotacahi, Quiroga , Azama'],\n",
       " ['The native range of this species is W. & Central Medit (1)',\n",
       "  nan,\n",
       "  'Cotacachi/ Laguna de cuicocha'],\n",
       " ['The native range of this species is SW. Europe, SE. Italy (1)', nan, nan],\n",
       " ['The native range of this species is S. Victoria to E. Tasmania. (1)',\n",
       "  nan,\n",
       "  nan],\n",
       " ['The native range of this species is Mexico to S. Tropical America.(1)',\n",
       "  nan,\n",
       "  nan],\n",
       " ['The native range of this genus is Macaronesia, Medit.(1)', nan, nan],\n",
       " ['The native range of this species is Mexico to Tropical America.(1)',\n",
       "  nan,\n",
       "  nan],\n",
       " ['The native range of this hybrid is Europe to Central Asia. (1)', nan, nan],\n",
       " ['Antonio Ante, Ibarra y OtavaloThe native range of this species is Macaronesia to Pakistan (1)',\n",
       "  nan,\n",
       "  nan],\n",
       " ['The native range of this species is Central & S. Tropical America to Trinidad. (1)',\n",
       "  nan,\n",
       "  nan],\n",
       " ['Antonio Ante, Ibarra y Otavalo', nan, nan],\n",
       " ['The native range of this species is Central Asia to NE. Iran (1)',\n",
       "  nan,\n",
       "  'Los Andes Cotacachi Jatuk Cem'],\n",
       " ['Antonio Ante, Ibarra y Otavalo', nan, 'Los Andes Cotacachi Jatuk Cem'],\n",
       " ['The native range of this species is S. Bolivia to NW. Argentina. (1)',\n",
       "  nan,\n",
       "  nan],\n",
       " ['The native range of this species is W. South America to Chile (Coquimbo) (1)',\n",
       "  nan,\n",
       "  nan],\n",
       " ['The native range of this species is Canary Islands, Medit. to Arabian Peninsula. (1)',\n",
       "  nan,\n",
       "  nan],\n",
       " ['Antonio Ante, Ibarra y Otavalo', nan, 'Los Andes Cotacachi Jatuk Cem'],\n",
       " ['Antonio Ante, Ibarra y Otavalo', nan, nan],\n",
       " ['Antonio Ante, Ibarra y Otavalo', nan, nan],\n",
       " ['Antonio Ante, Ibarra y Otavalo', nan, nan],\n",
       " ['Antonio Ante, Ibarra y Otavalo', nan, nan],\n",
       " ['The native range of this species is America, Subantarctic Islands (1)',\n",
       "  nan,\n",
       "  nan],\n",
       " ['Antonio Ante, Ibarra y Otavalo', nan, nan],\n",
       " ['Antonio Ante, Ibarra y Otavalo', nan, nan],\n",
       " ['(1)anti-inflammatory, in the treatment of toothache, wounds, tonsillitis an warts. It is also a powerful purgative',\n",
       "  nan,\n",
       "  nan],\n",
       " ['Antonio Ante, Ibarra y Otavalo', nan, nan],\n",
       " ['The native range of this species is S. India, Sri Lanka. (1)', nan, nan],\n",
       " ['The native range of this species is W. South America.(1)', nan, nan],\n",
       " ['The native range of this species is Subarctic & Temp. Northern Hemisphere. (1)',\n",
       "  nan,\n",
       "  nan],\n",
       " ['Antonio Ante, Ibarra y Otavalo', nan, nan],\n",
       " ['Antonio Ante, Ibarra y Otavalo', nan, nan],\n",
       " ['Antonio Ante, Ibarra y Otavalo', nan, nan],\n",
       " ['Antonio Ante, Ibarra y Otavalo', nan, nan],\n",
       " ['The native range of this species is Macaronesia, N. Africa, Temp. Eurasia to Indo-China. (1)',\n",
       "  nan,\n",
       "  nan],\n",
       " ['The native range of this species is Europe to China. (1)',\n",
       "  'Cotama, Silvestre, se comercializa la flor y las hojas',\n",
       "  nan],\n",
       " ['Antonio Ante, Ibarra y Otavalo', nan, nan],\n",
       " ['Antonio Ante, Ibarra y Otavalo', nan, nan],\n",
       " ['The native range of this species is Macaronesia to China. (1)', nan, nan],\n",
       " ['The native range of this species is Ecuador. (1)', nan, nan],\n",
       " ['Occurs naturally in Western Europe from the British Isles to the Iberian Peninsula (2)',\n",
       "  nan,\n",
       "  nan],\n",
       " ['The native range of this species is Macaronesia, Europe to Siberia, NW. Africa (1)',\n",
       "  nan,\n",
       "  'Comunidades de Quitugo'],\n",
       " ['The native range of this species is Europe to Siberia and W. China, NW. Africa.(1)',\n",
       "  nan,\n",
       "  nan]]"
      ]
     },
     "execution_count": 22,
     "metadata": {},
     "output_type": "execute_result"
    }
   ],
   "source": [
    "for place in places_list:\n",
    "    for plant in toponimo_dict[place]: \n",
    "        correct_string(plant,1)\n",
    "\n",
    "toponimo_dict[places_list[4]]"
   ]
  },
  {
   "cell_type": "code",
   "execution_count": 23,
   "id": "8c896880-799c-48cb-a2bc-f348a7b811ef",
   "metadata": {},
   "outputs": [
    {
     "data": {
      "text/plain": [
       "[['La infusión de la planta hojas, flores y ramas se usa para tratar el dolor de estómago, cólicos intestinales e indigestión, lavados de la vista y para tratar resfríos, cólicos y el dolor de estómago, calmar dolores de abdomen, cabeza, ri;ones y vejiga. Con la planta se realizan baños de vapor para eliminar las espinillas. La infusión de la planta se usa para tratar la gripe, bronquitis en los niños, golpes, lastimados, diarreas, el cólico frío e irritaciones de los ojos. Las flores se emplean para aliviar el resfrío de la cabeza. Las flores y ramas se usan para tratar infecciones e hinchazones . La infusión se usa para tratar inflamaciones, el insomnio, cólicos y resfríos. La planta entera, en infusión, se emplea para tratar afecciones de la piel como granos e inflamación en los labios vaginales . Sirve como diurético, antiinflamatorio y antiespasmódico. Se usa para tratar cólicos, la diarrea, heridas infectadas, la sordera e irritación de los ojos mestiza, etnia no especificadapichincha. Se usa para aliviar cólicos etnia no especificadacañar. Utilizada para tratar los espamos y la tos de los resfríos kichwa de la sierratungurahua 3',\n",
       "  'Ancestral reportado no comprobado'],\n",
       " ['Dolor de barriga,', 'Ancestral segun fuentes vivas'],\n",
       " ['1 antioxidant, antibacterial, antifungal, anticancer, antidiabetic, antiparasitic, antiinflammatory, antidepressant, antipyretic, antiallergic, and analgesic activities. 2antiproliferative, antimigratory, antiangiogenic, and antiadenoviral activities.',\n",
       "  'Cientificamente comprobado']]"
      ]
     },
     "execution_count": 23,
     "metadata": {},
     "output_type": "execute_result"
    }
   ],
   "source": [
    "#places_list[1]\n",
    "#plants_dict[places_list[5]]\n",
    "#curret_name tm, scitific ob,id_place ob\n",
    "#toponimo_dict[places_list[5]]\n",
    "#origin temp, comercial_distr temp, distri temp,id_plant ob\n",
    "#use_dict[places_list[2]][1]\n",
    "#type_use ob , description ob, id_plant ob\n",
    "#research_prev_dict[places_list[4]]\n",
    "#title tmp, link ob\n",
    "use_dict[places_list[0]][0]"
   ]
  },
  {
   "cell_type": "code",
   "execution_count": 24,
   "id": "cdcb181a-1adc-4140-8771-8e1a31d46d19",
   "metadata": {},
   "outputs": [
    {
     "name": "stdout",
     "output_type": "stream",
     "text": [
      "Requirement already satisfied: mysql-connector-python in /home/aldrinchp/Documents/Proyecto Plantas/.venv/lib/python3.11/site-packages (9.3.0)\n",
      "\n",
      "\u001b[1m[\u001b[0m\u001b[34;49mnotice\u001b[0m\u001b[1;39;49m]\u001b[0m\u001b[39;49m A new release of pip is available: \u001b[0m\u001b[31;49m25.1\u001b[0m\u001b[39;49m -> \u001b[0m\u001b[32;49m25.1.1\u001b[0m\n",
      "\u001b[1m[\u001b[0m\u001b[34;49mnotice\u001b[0m\u001b[1;39;49m]\u001b[0m\u001b[39;49m To update, run: \u001b[0m\u001b[32;49mpip install --upgrade pip\u001b[0m\n",
      "Note: you may need to restart the kernel to use updated packages.\n"
     ]
    }
   ],
   "source": [
    "pip install mysql-connector-python"
   ]
  },
  {
   "cell_type": "markdown",
   "id": "fa249481-89a6-4240-af86-6a8dd1b32773",
   "metadata": {},
   "source": [
    "### Inserting dataa"
   ]
  },
  {
   "cell_type": "code",
   "execution_count": 25,
   "id": "60adca52-bc9d-4ce7-af79-12fc00ed315e",
   "metadata": {},
   "outputs": [],
   "source": [
    "import mysql.connector\n",
    "\n",
    "# Database connection\n",
    "connection = mysql.connector.connect(\n",
    "    host=\"127.0.0.1\",\n",
    "    port=3306,\n",
    "    user=\"root\",\n",
    "    password=\"123456789\",\n",
    "    database=\"Medicinal_plants_proyect\"\n",
    ")"
   ]
  },
  {
   "cell_type": "code",
   "execution_count": 26,
   "id": "fa00b1a8-9fa4-4bd7-8307-7631862e3c53",
   "metadata": {},
   "outputs": [
    {
     "name": "stdout",
     "output_type": "stream",
     "text": [
      "Conexión exitosa a MySQL\n",
      "Base de datos actual: Medicinal_plants_proyect\n"
     ]
    }
   ],
   "source": [
    "# Verificar conexión\n",
    "if connection.is_connected():\n",
    "    print(\"Conexión exitosa a MySQL\")\n",
    "    cursor = connection.cursor()\n",
    "    cursor.execute(\"SELECT DATABASE();\")\n",
    "    db_name = cursor.fetchone()\n",
    "    print(\"Base de datos actual:\", db_name[0])\n",
    "else:\n",
    "    print(\"Fuera de conexion a MySQL\")"
   ]
  },
  {
   "cell_type": "code",
   "execution_count": 27,
   "id": "78a406e9-651e-4b3f-97d2-b1d11cea6c0c",
   "metadata": {},
   "outputs": [],
   "source": [
    "querys = [\"INSERT INTO locations (city_name, province_name) VALUES (%s,%s)\",\n",
    "          \"INSERT INTO plants (location_id, current_name, scientific_name) VALUES (%s,%s,%s)\",\n",
    "          \"INSERT INTO previous_researches (id_plant, title, link) VALUES (%s,%s,%s)\",\n",
    "          \"INSERT INTO toponimos (id_plant, origin, comercial_distribution,distribution) VALUES (%s,%s,%s,%s)\",\n",
    "          \"INSERT INTO uses (id_plant, description, type_use) VALUES (%s,%s,%s)\",\n",
    "]"
   ]
  },
  {
   "cell_type": "code",
   "execution_count": 28,
   "id": "553b58d5-9ed3-4fa0-bf65-d66049b6f04c",
   "metadata": {},
   "outputs": [
    {
     "data": {
      "text/plain": [
       "[['Antonio Ante', 'Imbabura'],\n",
       " ['Urcuquí', 'Imbabura'],\n",
       " ['Pimampiro', 'Imbabura'],\n",
       " ['Otavalo', 'Imbabura'],\n",
       " ['Cotacachi', 'Imbabura'],\n",
       " ['Ibarra', 'Imbabura']]"
      ]
     },
     "execution_count": 28,
     "metadata": {},
     "output_type": "execute_result"
    }
   ],
   "source": [
    "data1 = []\n",
    "for place in places_list:\n",
    "    tempo = [place,\"Imbabura\"]\n",
    "    data1.append(tempo)\n",
    "data1"
   ]
  },
  {
   "cell_type": "code",
   "execution_count": 29,
   "id": "48628393-62eb-489f-a86e-8661624215ce",
   "metadata": {},
   "outputs": [
    {
     "name": "stdout",
     "output_type": "stream",
     "text": [
      "6 rows inserted.\n"
     ]
    }
   ],
   "source": [
    "# Execute the query for multiple records\n",
    "cursor.executemany(querys[0],data1)\n",
    "# Commit the changes\n",
    "connection.commit()\n",
    "# Confirm the number of rows inserted\n",
    "print(f\"{cursor.rowcount} rows inserted.\")"
   ]
  },
  {
   "cell_type": "code",
   "execution_count": 30,
   "id": "051200e2-a907-4115-a100-3edf95345094",
   "metadata": {},
   "outputs": [
    {
     "name": "stdout",
     "output_type": "stream",
     "text": [
      "180 rows inserted.\n"
     ]
    }
   ],
   "source": [
    "count = 1\n",
    "number = 0\n",
    "for place in places_list:\n",
    "    for plant in plants_dict[place]:\n",
    "        tempo = plant.copy()\n",
    "        tempo.insert(0,count)\n",
    "        cursor.execute(querys[1],tempo)\n",
    "        number = number + 1\n",
    "    count = count + 1\n",
    "# Commit the changes\n",
    "connection.commit()\n",
    "# Confirm the number of rows inserted\n",
    "print(f\"{number} rows inserted.\")\n",
    "#Here It is necesarr"
   ]
  },
  {
   "cell_type": "code",
   "execution_count": 31,
   "id": "96e7fa6c-e451-4a55-91f6-4752dcaec940",
   "metadata": {},
   "outputs": [
    {
     "name": "stdout",
     "output_type": "stream",
     "text": [
      "456 rows inserted.\n"
     ]
    }
   ],
   "source": [
    "count = 1\n",
    "number = 0\n",
    "for place in places_list:\n",
    "    for plant in use_dict[place]:\n",
    "        for use in plant:\n",
    "            tempo = use.copy()\n",
    "            tempo.insert(0,count)\n",
    "            if pd.isna(use[0]):\n",
    "                continue\n",
    "            cursor.execute(querys[4],tempo)\n",
    "            number = number + 1\n",
    "        count = count + 1\n",
    "# Commit the changes\n",
    "connection.commit()\n",
    "# Confirm the number of rows inserted\n",
    "print(f\"{number} rows inserted.\")"
   ]
  },
  {
   "cell_type": "code",
   "execution_count": 32,
   "id": "8c55d500-d3a5-4f77-a6d0-b3012788b46d",
   "metadata": {},
   "outputs": [
    {
     "name": "stdout",
     "output_type": "stream",
     "text": [
      "335 rows inserted.\n"
     ]
    }
   ],
   "source": [
    "count = 1\n",
    "number = 0\n",
    "for place in places_list:\n",
    "    for plant in research_prev_dict[place]:\n",
    "        for element in plant:\n",
    "            tempo = []\n",
    "            if pd.isna(element):\n",
    "                continue\n",
    "            tempo.append(count)\n",
    "            tempo.append(None)\n",
    "            tempo.append(element)\n",
    "            cursor.execute(querys[2],tempo)\n",
    "            number = number + 1 \n",
    "        count = count + 1\n",
    "# Commit the changes\n",
    "connection.commit()\n",
    "# Confirm the number of rows inserted\n",
    "print(f\"{number} rows inserted.\")"
   ]
  },
  {
   "cell_type": "code",
   "execution_count": 33,
   "id": "3d983405-481c-43d5-aa77-be1d55d29878",
   "metadata": {},
   "outputs": [
    {
     "name": "stdout",
     "output_type": "stream",
     "text": [
      "178 rows inserted.\n"
     ]
    }
   ],
   "source": [
    "count = 1\n",
    "number = 0 \n",
    "for place in places_list:\n",
    "    for plant in toponimo_dict[place]:\n",
    "        tempo = []\n",
    "        for element in plant:\n",
    "            if pd.isna(element):\n",
    "                tempo.append(None)\n",
    "            else:\n",
    "                tempo.append(element)\n",
    "        if tempo.count(None) == len(tempo):\n",
    "            count = count + 1\n",
    "            continue\n",
    "        else: \n",
    "            tempo.insert(0,count)\n",
    "            cursor.execute(querys[3], tempo)\n",
    "            number = number + 1\n",
    "            count = count + 1\n",
    "\n",
    "# Commit the changes\n",
    "connection.commit()\n",
    "# Confirm the number of rows inserted\n",
    "print(f\"{number} rows inserted.\")"
   ]
  },
  {
   "cell_type": "code",
   "execution_count": 34,
   "id": "20e45c31-2256-4fb4-89e1-bf4d63c01ed2",
   "metadata": {},
   "outputs": [],
   "source": [
    "# Close the connection\n",
    "cursor.close()\n",
    "connection.close()"
   ]
  },
  {
   "cell_type": "code",
   "execution_count": 35,
   "id": "a7cad81a-ceb7-44f9-afb3-7ebe0c7d0151",
   "metadata": {},
   "outputs": [
    {
     "name": "stdout",
     "output_type": "stream",
     "text": [
      "Fuera de conexion a MySQL\n"
     ]
    }
   ],
   "source": [
    "# Verificar conexión\n",
    "if connection.is_connected():\n",
    "    print(\"Conexión exitosa a MySQL\")\n",
    "    cursor = connection.cursor()\n",
    "    cursor.execute(\"SELECT DATABASE();\")\n",
    "    db_name = cursor.fetchone()\n",
    "    print(\"Base de datos actual:\", db_name[0])\n",
    "else:\n",
    "    print(\"Fuera de conexion a MySQL\")"
   ]
  }
 ],
 "metadata": {
  "kernelspec": {
   "display_name": ".venv",
   "language": "python",
   "name": "python3"
  },
  "language_info": {
   "codemirror_mode": {
    "name": "ipython",
    "version": 3
   },
   "file_extension": ".py",
   "mimetype": "text/x-python",
   "name": "python",
   "nbconvert_exporter": "python",
   "pygments_lexer": "ipython3",
   "version": "3.11.2"
  }
 },
 "nbformat": 4,
 "nbformat_minor": 5
}
